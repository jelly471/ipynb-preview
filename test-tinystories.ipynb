{
 "cells": [
  {
   "cell_type": "code",
   "execution_count": 13,
   "id": "6eba55a2-5de1-46b3-a281-cfdecec8b93f",
   "metadata": {},
   "outputs": [
    {
     "name": "stderr",
     "output_type": "stream",
     "text": [
      "The attention mask and the pad token id were not set. As a consequence, you may observe unexpected behavior. Please pass your input's `attention_mask` to obtain reliable results.\n",
      "Setting `pad_token_id` to `eos_token_id`:50256 for open-end generation.\n"
     ]
    },
    {
     "name": "stdout",
     "output_type": "stream",
     "text": [
      "Once upon a time, there lived a black cat. The cat belonged to a little girl called Katie. Every day, Katie\n",
      "would take her cat for a walk in the park.\n",
      "\n",
      "One day, as Katie and her cat were walking around, they saw a mean looking man. He said he wanted to\n",
      "take the cat, to which she replied ”This cat belongs to me.”\n",
      "\n",
      "The mean man said “No, it’s mine.”\n",
      "\n",
      "Katie was very sad. She said “Please, I just want to take it for a walk.”\n",
      "\n",
      "The mean man thought for a moment and then said “Okay, you can take it. But you must promise to take care of it.”\n",
      "\n",
      "Katie was so happy. She thanked the mean man and took the cat for a walk. From then on, Katie and her black cat were the best of friends.\n",
      "\n"
     ]
    }
   ],
   "source": [
    "from transformers import AutoModelForCausalLM, AutoTokenizer, GenerationConfig\n",
    "\n",
    "model = AutoModelForCausalLM.from_pretrained('./TinyStories-33M')\n",
    "tokenizer = AutoTokenizer.from_pretrained(\"./gpt-neo-125m\")\n",
    "prompt = \"\"\"Once upon a time, there lived a black cat. The cat belonged to a little girl called Katie. Every day, Katie\n",
    "would take her cat for a walk in the park.\n",
    "\n",
    "One day, as Katie and her cat were walking around, they saw a mean looking man. He said he wanted to\n",
    "take the cat, to which she replied ”This cat belongs\"\"\"\n",
    "input_ids = tokenizer.encode(prompt, return_tensors=\"pt\")\n",
    "\n",
    "# Generate completion\n",
    "output = model.generate(input_ids, max_length = 10000, num_beams=1)\n",
    "\n",
    "# Decode the completion\n",
    "output_text = tokenizer.decode(output[0], skip_special_tokens=True)\n",
    "\n",
    "# Print the generated text\n",
    "print(output_text)"
   ]
  },
  {
   "cell_type": "code",
   "execution_count": 14,
   "id": "dbb30c67-3c18-47a4-bf14-08e74c0c8579",
   "metadata": {},
   "outputs": [
    {
     "name": "stderr",
     "output_type": "stream",
     "text": [
      "The attention mask and the pad token id were not set. As a consequence, you may observe unexpected behavior. Please pass your input's `attention_mask` to obtain reliable results.\n",
      "Setting `pad_token_id` to `eos_token_id`:50256 for open-end generation.\n"
     ]
    },
    {
     "name": "stdout",
     "output_type": "stream",
     "text": [
      "Once upon a time, there lived a black cat. The cat belonged to a little girl called Katie. Every day, Katie\n",
      "would take her cat for a walk in the park.\n",
      "\n",
      "One day, as Katie and her cat were walking around, they saw a mean looking man. He said he wanted to\n",
      "take the cat, to which she replied ”This cat belongs to me!”\n",
      "\n",
      "Katie was scared, but she knew she had to do something. She said to the man, “We should take the cat home.”\n",
      "\n",
      "The man agreed, and they took the cat home.\n",
      "\n",
      "When they got home, Katie's cat was very happy. She had a new home and she was safe.\n",
      "\n",
      "The moral of the story is that it’s important to be kind and help others. Even if it means taking a walk, it’s better to be kind and help others.\n",
      "\n"
     ]
    }
   ],
   "source": [
    "from transformers import AutoModelForCausalLM, AutoTokenizer, GenerationConfig\n",
    "\n",
    "model = AutoModelForCausalLM.from_pretrained('./TinyStories-8M')\n",
    "tokenizer = AutoTokenizer.from_pretrained(\"./gpt-neo-125m\")\n",
    "prompt = \"\"\"Once upon a time, there lived a black cat. The cat belonged to a little girl called Katie. Every day, Katie\n",
    "would take her cat for a walk in the park.\n",
    "\n",
    "One day, as Katie and her cat were walking around, they saw a mean looking man. He said he wanted to\n",
    "take the cat, to which she replied ”This cat belongs\"\"\"\n",
    "input_ids = tokenizer.encode(prompt, return_tensors=\"pt\")\n",
    "\n",
    "# Generate completion\n",
    "output = model.generate(input_ids, max_length = 10000, num_beams=1)\n",
    "\n",
    "# Decode the completion\n",
    "output_text = tokenizer.decode(output[0], skip_special_tokens=True)\n",
    "\n",
    "# Print the generated text\n",
    "print(output_text)"
   ]
  },
  {
   "cell_type": "code",
   "execution_count": 15,
   "id": "e8af4a0b-2ade-424f-be95-a562ea746274",
   "metadata": {},
   "outputs": [
    {
     "name": "stderr",
     "output_type": "stream",
     "text": [
      "The attention mask and the pad token id were not set. As a consequence, you may observe unexpected behavior. Please pass your input's `attention_mask` to obtain reliable results.\n",
      "Setting `pad_token_id` to `eos_token_id`:50256 for open-end generation.\n"
     ]
    },
    {
     "name": "stdout",
     "output_type": "stream",
     "text": [
      "Once upon a time, there lived a black cat. The cat belonged to a little girl called Katie. Every day, Katie\n",
      "would take her cat for a walk in the park.\n",
      "\n",
      "One day, as Katie and her cat were walking around, they saw a mean looking man. He said he wanted to\n",
      "take the cat, to which she replied ”This cat belongs to a bad man.”\n",
      "\n",
      "Katie was very scared, but she was also very brave. She said “I’m sorry, I’m sorry. I’m sorry, I’m sorry.”\n",
      "\n",
      "The bad man was very angry. He said “You must not take things that are not yours. You should always ask before you take something that belongs to someone else.”\n",
      "\n",
      "Katie was very sad. She had been so brave and she had been very brave. She learned a valuable lesson that day.\n",
      "\n"
     ]
    }
   ],
   "source": [
    "from transformers import AutoModelForCausalLM, AutoTokenizer, GenerationConfig\n",
    "\n",
    "model = AutoModelForCausalLM.from_pretrained('./TinyStories-3M')\n",
    "tokenizer = AutoTokenizer.from_pretrained(\"./gpt-neo-125m\")\n",
    "prompt = \"\"\"Once upon a time, there lived a black cat. The cat belonged to a little girl called Katie. Every day, Katie\n",
    "would take her cat for a walk in the park.\n",
    "\n",
    "One day, as Katie and her cat were walking around, they saw a mean looking man. He said he wanted to\n",
    "take the cat, to which she replied ”This cat belongs\"\"\"\n",
    "input_ids = tokenizer.encode(prompt, return_tensors=\"pt\")\n",
    "\n",
    "# Generate completion\n",
    "output = model.generate(input_ids, max_length = 10000, num_beams=1)\n",
    "\n",
    "# Decode the completion\n",
    "output_text = tokenizer.decode(output[0], skip_special_tokens=True)\n",
    "\n",
    "# Print the generated text\n",
    "print(output_text)"
   ]
  },
  {
   "cell_type": "code",
   "execution_count": 16,
   "id": "bf9b57f8-685e-4056-8b22-4f1e85f359ac",
   "metadata": {},
   "outputs": [
    {
     "name": "stderr",
     "output_type": "stream",
     "text": [
      "/tmp/ipykernel_41032/3888440015.py:94: DeprecationWarning: Importing display from IPython.core.display is deprecated since IPython 7.14, please import from IPython display\n",
      "  from IPython.core.display import display, HTML\n"
     ]
    },
    {
     "data": {
      "text/html": [
       "<span style='color: red; font-weight: bold;'>Once</span> <span style='color: red; font-weight: bold;'>upon</span> <span style='color: red; font-weight: bold;'>a</span> <span style='color: red; font-weight: bold;'>time,</span> <span style='color: red; font-weight: bold;'>there</span> <span style='color: red; font-weight: bold;'>lived</span> a <span style='color: red; font-weight: bold;'>black</span> <span style='color: red; font-weight: bold;'>cat.</span><br><span style='color: red; font-weight: bold;'>The</span> <span style='color: red; font-weight: bold;'>cat</span> <span style='color: red; font-weight: bold;'>belonged</span> <span style='color: red; font-weight: bold;'>to</span> <span style='color: red; font-weight: bold;'>a</span> <span style='color: red; font-weight: bold;'>little</span> <span style='color: red; font-weight: bold;'>girl</span> <span style='color: red; font-weight: bold;'>called</span> <span style='color: red; font-weight: bold;'>Katie.</span><br><span style='color: red; font-weight: bold;'>Every</span> <span style='color: red; font-weight: bold;'>day,</span> <span style='color: red; font-weight: bold;'>Katie</span> <span style='color: red; font-weight: bold;'>would</span> <span style='color: red; font-weight: bold;'>take</span> <span style='color: red; font-weight: bold;'>her</span> <span style='color: red; font-weight: bold;'>cat</span> <span style='color: red; font-weight: bold;'>for</span> <span style='color: red; font-weight: bold;'>a</span> <span style='color: red; font-weight: bold;'>walk</span> <span style='color: red; font-weight: bold;'>in</span> <span style='color: red; font-weight: bold;'>the</span> <span style='color: red; font-weight: bold;'>park.</span><br><span style='color: red; font-weight: bold;'>One</span> <span style='color: red; font-weight: bold;'>day,</span> <span style='color: red; font-weight: bold;'>as</span> <span style='color: red; font-weight: bold;'>Katie</span> <span style='color: red; font-weight: bold;'>and</span> <span style='color: red; font-weight: bold;'>her</span> <span style='color: red; font-weight: bold;'>cat</span> <span style='color: red; font-weight: bold;'>were</span> <span style='color: red; font-weight: bold;'>walking</span> <span style='color: red; font-weight: bold;'>around,</span> <span style='color: red; font-weight: bold;'>they</span> <span style='color: red; font-weight: bold;'>saw</span> <span style='color: red; font-weight: bold;'>a</span> <span style='color: red; font-weight: bold;'>mean</span> <span style='color: red; font-weight: bold;'>looking</span> <span style='color: red; font-weight: bold;'>man.</span><br><span style='color: red; font-weight: bold;'>He</span> <span style='color: red; font-weight: bold;'>said</span> <span style='color: red; font-weight: bold;'>he</span> <span style='color: red; font-weight: bold;'>wanted</span> <span style='color: red; font-weight: bold;'>to</span> <span style='color: red; font-weight: bold;'>take</span> <span style='color: red; font-weight: bold;'>the</span> <span style='color: red; font-weight: bold;'>cat,</span> to <span style='color: red; font-weight: bold;'>which</span> <span style='color: red; font-weight: bold;'>she</span> <span style='color: red; font-weight: bold;'>replied</span> <span style='color: red; font-weight: bold;'>”This</span> <span style='color: red; font-weight: bold;'>cat</span> <span style='color: red; font-weight: bold;'>belongs</span> to a bad man.” Katie was very scared, but she was also very brave.<br>She <span style='color: red; font-weight: bold;'>said</span> “I’m sorry, I’m sorry.<br>I’m sorry, I’m sorry.” <span style='color: red; font-weight: bold;'>The</span> bad man was very angry.<br><span style='color: red; font-weight: bold;'>He</span> <span style='color: red; font-weight: bold;'>said</span> “You must not <span style='color: red; font-weight: bold;'>take</span> things that are not yours.<br>You should always ask before you take something that belongs <span style='color: red; font-weight: bold;'>to</span> someone else.” <span style='color: red; font-weight: bold;'>Katie</span> was very sad.<br>She had been so brave <span style='color: red; font-weight: bold;'>and</span> <span style='color: red; font-weight: bold;'>she</span> had been very brave.<br>She learned <span style='color: red; font-weight: bold;'>a</span> valuable lesson that day."
      ],
      "text/plain": [
       "<IPython.core.display.HTML object>"
      ]
     },
     "metadata": {},
     "output_type": "display_data"
    },
    {
     "data": {
      "image/png": "[encoded data removed]",
      "text/plain": [
       "<Figure size 640x480 with 1 Axes>"
      ]
     },
     "metadata": {},
     "output_type": "display_data"
    }
   ],
   "source": [
    "#3M\n",
    "import re\n",
    "import matplotlib.pyplot as plt\n",
    "\n",
    "\n",
    "def read_text(file_path):\n",
    "    with open(file_path, 'r', encoding='utf-8') as file:\n",
    "        return file.read()\n",
    "\n",
    "def longest_increasing_subsequence(xs, ys):\n",
    "    n = len(xs)\n",
    "    m = len(ys)\n",
    "\n",
    "    dp = [[0] * (m + 1) for _ in range(n + 1)]\n",
    "\n",
    "    for i in range(1, n + 1):\n",
    "        for j in range(1, m + 1):\n",
    "            if xs[i - 1] == ys[j - 1]:\n",
    "                dp[i][j] = dp[i - 1][j - 1] + 1\n",
    "            else:\n",
    "                dp[i][j] = max(dp[i - 1][j], dp[i][j - 1])\n",
    "\n",
    "    i, j = n, m\n",
    "    lis = []\n",
    "\n",
    "    while i > 0 and j > 0:\n",
    "        if xs[i - 1] == ys[j - 1]:\n",
    "            lis.append(xs[i - 1])\n",
    "            i -= 1\n",
    "            j -= 1\n",
    "        elif dp[i - 1][j] > dp[i][j - 1]:\n",
    "            i -= 1\n",
    "        else:\n",
    "            j -= 1\n",
    "\n",
    "    lis.reverse()\n",
    "\n",
    "    return lis\n",
    "\n",
    "def annotate_text(small_text, lis):\n",
    "\n",
    "    sentences = re.split(r'(?<=\\w[.!?])\\s', small_text)\n",
    "    lis_set = set(lis)\n",
    "    annotated_sentences = []\n",
    "\n",
    "    for sentence in sentences:\n",
    "        words = sentence.split()\n",
    "        annotated_sentence = []\n",
    "        for word in words:\n",
    "            if word in lis_set:\n",
    "                annotated_sentence.append(f\"<span style='color: red; font-weight: bold;'>{word}</span>\")\n",
    "                lis_set.remove(word)\n",
    "            else:\n",
    "                annotated_sentence.append(word)\n",
    "        annotated_sentences.append(\" \".join(annotated_sentence))\n",
    "\n",
    "    return \"<br>\".join(annotated_sentences)\n",
    "\n",
    "def main():\n",
    "    # small_file_path = '/content/drive/MyDrive/train_data/out-mobydick-1000iter.txt'\n",
    "    # large_file_path = '/content/drive/MyDrive/train_data/MobyDick.Gutenberg.txt'\n",
    "\n",
    "    # small_text = read_text(small_file_path)\n",
    "    # large_text = read_text(large_file_path)\n",
    "\n",
    "    large_text = \"\"\"Once upon a time, there lived a black cat. The cat belonged to a little girl called Katie. Every day, Katie\n",
    "                    would take her cat for a walk in the park.\n",
    "                    \n",
    "                    One day, as Katie and her cat were walking around, they saw a mean looking man. He said he wanted to\n",
    "                    take the cat, to which she replied ”This cat belongs\"\"\"\n",
    "\n",
    "    small_text = \"\"\"Once upon a time, there lived a black cat. The cat belonged to a little girl called Katie. Every day, Katie\n",
    "                    would take her cat for a walk in the park.\n",
    "                    \n",
    "                    One day, as Katie and her cat were walking around, they saw a mean looking man. He said he wanted to\n",
    "                    take the cat, to which she replied ”This cat belongs to a bad man.”\n",
    "                    \n",
    "                    Katie was very scared, but she was also very brave. She said “I’m sorry, I’m sorry. I’m sorry, I’m sorry.”\n",
    "                    \n",
    "                    The bad man was very angry. He said “You must not take things that are not yours. You should always ask before you take something that belongs to someone else.”\n",
    "\n",
    "                    Katie was very sad. She had been so brave and she had been very brave. She learned a valuable lesson that day.\"\"\"\n",
    "\n",
    "    sentences = re.split(r'(?<=\\w[.!?])\\s', small_text)\n",
    "    lis_lengths = []\n",
    "\n",
    "    annotated_sentences = []\n",
    "    for sentence in sentences:\n",
    "        lis = longest_increasing_subsequence(sentence.split(), large_text.split())\n",
    "        lis_lengths.append(len(lis))\n",
    "        annotated_sentences.append(annotate_text(sentence, lis))\n",
    "\n",
    "    annotated_text = \"<br>\".join(annotated_sentences)\n",
    "\n",
    "    from IPython.core.display import display, HTML\n",
    "    display(HTML(annotated_text))\n",
    "\n",
    "    plt.hist(lis_lengths, bins=range(1, max(lis_lengths) + 2), edgecolor='black')\n",
    "    plt.xlabel('Length of LIS')\n",
    "    plt.ylabel('Frequency')\n",
    "    plt.title('Histogram of LIS Lengths')\n",
    "    plt.show()\n",
    "\n",
    "if __name__ == \"__main__\":\n",
    "    main()\n",
    "\n"
   ]
  },
  {
   "cell_type": "code",
   "execution_count": 17,
   "id": "9ef38e12-8a4a-44c3-a5f7-f28700244e73",
   "metadata": {},
   "outputs": [
    {
     "name": "stderr",
     "output_type": "stream",
     "text": [
      "/tmp/ipykernel_41032/1453287543.py:96: DeprecationWarning: Importing display from IPython.core.display is deprecated since IPython 7.14, please import from IPython display\n",
      "  from IPython.core.display import display, HTML\n"
     ]
    },
    {
     "data": {
      "text/html": [
       "<span style='color: red; font-weight: bold;'>Once</span> <span style='color: red; font-weight: bold;'>upon</span> <span style='color: red; font-weight: bold;'>a</span> <span style='color: red; font-weight: bold;'>time,</span> <span style='color: red; font-weight: bold;'>there</span> <span style='color: red; font-weight: bold;'>lived</span> a <span style='color: red; font-weight: bold;'>black</span> <span style='color: red; font-weight: bold;'>cat.</span><br><span style='color: red; font-weight: bold;'>The</span> <span style='color: red; font-weight: bold;'>cat</span> <span style='color: red; font-weight: bold;'>belonged</span> <span style='color: red; font-weight: bold;'>to</span> <span style='color: red; font-weight: bold;'>a</span> <span style='color: red; font-weight: bold;'>little</span> <span style='color: red; font-weight: bold;'>girl</span> <span style='color: red; font-weight: bold;'>called</span> <span style='color: red; font-weight: bold;'>Katie.</span><br><span style='color: red; font-weight: bold;'>Every</span> <span style='color: red; font-weight: bold;'>day,</span> <span style='color: red; font-weight: bold;'>Katie</span> <span style='color: red; font-weight: bold;'>would</span> <span style='color: red; font-weight: bold;'>take</span> <span style='color: red; font-weight: bold;'>her</span> <span style='color: red; font-weight: bold;'>cat</span> <span style='color: red; font-weight: bold;'>for</span> <span style='color: red; font-weight: bold;'>a</span> <span style='color: red; font-weight: bold;'>walk</span> <span style='color: red; font-weight: bold;'>in</span> <span style='color: red; font-weight: bold;'>the</span> <span style='color: red; font-weight: bold;'>park.</span><br><span style='color: red; font-weight: bold;'>One</span> <span style='color: red; font-weight: bold;'>day,</span> <span style='color: red; font-weight: bold;'>as</span> <span style='color: red; font-weight: bold;'>Katie</span> <span style='color: red; font-weight: bold;'>and</span> <span style='color: red; font-weight: bold;'>her</span> <span style='color: red; font-weight: bold;'>cat</span> <span style='color: red; font-weight: bold;'>were</span> <span style='color: red; font-weight: bold;'>walking</span> <span style='color: red; font-weight: bold;'>around,</span> <span style='color: red; font-weight: bold;'>they</span> <span style='color: red; font-weight: bold;'>saw</span> <span style='color: red; font-weight: bold;'>a</span> <span style='color: red; font-weight: bold;'>mean</span> <span style='color: red; font-weight: bold;'>looking</span> <span style='color: red; font-weight: bold;'>man.</span><br><span style='color: red; font-weight: bold;'>He</span> <span style='color: red; font-weight: bold;'>said</span> <span style='color: red; font-weight: bold;'>he</span> <span style='color: red; font-weight: bold;'>wanted</span> <span style='color: red; font-weight: bold;'>to</span> <span style='color: red; font-weight: bold;'>take</span> <span style='color: red; font-weight: bold;'>the</span> <span style='color: red; font-weight: bold;'>cat,</span> to <span style='color: red; font-weight: bold;'>which</span> <span style='color: red; font-weight: bold;'>she</span> <span style='color: red; font-weight: bold;'>replied</span> <span style='color: red; font-weight: bold;'>”This</span> <span style='color: red; font-weight: bold;'>cat</span> <span style='color: red; font-weight: bold;'>belongs</span> to me.” The mean man said “No, it’s mine.” Katie was very sad.<br>She <span style='color: red; font-weight: bold;'>said</span> “Please, I just want to <span style='color: red; font-weight: bold;'>take</span> it <span style='color: red; font-weight: bold;'>for</span> <span style='color: red; font-weight: bold;'>a</span> walk.” <span style='color: red; font-weight: bold;'>The</span> mean man thought for a moment <span style='color: red; font-weight: bold;'>and</span> then said “Okay, you can take it.<br>But you must promise <span style='color: red; font-weight: bold;'>to</span> <span style='color: red; font-weight: bold;'>take</span> care of it.” <span style='color: red; font-weight: bold;'>Katie</span> was so happy.<br>She thanked <span style='color: red; font-weight: bold;'>the</span> mean man <span style='color: red; font-weight: bold;'>and</span> took the <span style='color: red; font-weight: bold;'>cat</span> for <span style='color: red; font-weight: bold;'>a</span> walk.<br>From then on, <span style='color: red; font-weight: bold;'>Katie</span> <span style='color: red; font-weight: bold;'>and</span> <span style='color: red; font-weight: bold;'>her</span> black <span style='color: red; font-weight: bold;'>cat</span> <span style='color: red; font-weight: bold;'>were</span> <span style='color: red; font-weight: bold;'>the</span> best of friends."
      ],
      "text/plain": [
       "<IPython.core.display.HTML object>"
      ]
     },
     "metadata": {},
     "output_type": "display_data"
    },
    {
     "data": {
      "image/png": "[encoded data removed]",
      "text/plain": [
       "<Figure size 640x480 with 1 Axes>"
      ]
     },
     "metadata": {},
     "output_type": "display_data"
    }
   ],
   "source": [
    "#33M\n",
    "import re\n",
    "import matplotlib.pyplot as plt\n",
    "\n",
    "\n",
    "def read_text(file_path):\n",
    "    with open(file_path, 'r', encoding='utf-8') as file:\n",
    "        return file.read()\n",
    "\n",
    "def longest_increasing_subsequence(xs, ys):\n",
    "    n = len(xs)\n",
    "    m = len(ys)\n",
    "\n",
    "    dp = [[0] * (m + 1) for _ in range(n + 1)]\n",
    "\n",
    "    for i in range(1, n + 1):\n",
    "        for j in range(1, m + 1):\n",
    "            if xs[i - 1] == ys[j - 1]:\n",
    "                dp[i][j] = dp[i - 1][j - 1] + 1\n",
    "            else:\n",
    "                dp[i][j] = max(dp[i - 1][j], dp[i][j - 1])\n",
    "\n",
    "    i, j = n, m\n",
    "    lis = []\n",
    "\n",
    "    while i > 0 and j > 0:\n",
    "        if xs[i - 1] == ys[j - 1]:\n",
    "            lis.append(xs[i - 1])\n",
    "            i -= 1\n",
    "            j -= 1\n",
    "        elif dp[i - 1][j] > dp[i][j - 1]:\n",
    "            i -= 1\n",
    "        else:\n",
    "            j -= 1\n",
    "\n",
    "    lis.reverse()\n",
    "\n",
    "    return lis\n",
    "\n",
    "def annotate_text(small_text, lis):\n",
    "\n",
    "    sentences = re.split(r'(?<=\\w[.!?])\\s', small_text)\n",
    "    lis_set = set(lis)\n",
    "    annotated_sentences = []\n",
    "\n",
    "    for sentence in sentences:\n",
    "        words = sentence.split()\n",
    "        annotated_sentence = []\n",
    "        for word in words:\n",
    "            if word in lis_set:\n",
    "                annotated_sentence.append(f\"<span style='color: red; font-weight: bold;'>{word}</span>\")\n",
    "                lis_set.remove(word)\n",
    "            else:\n",
    "                annotated_sentence.append(word)\n",
    "        annotated_sentences.append(\" \".join(annotated_sentence))\n",
    "\n",
    "    return \"<br>\".join(annotated_sentences)\n",
    "\n",
    "def main():\n",
    "    # small_file_path = '/content/drive/MyDrive/train_data/out-mobydick-1000iter.txt'\n",
    "    # large_file_path = '/content/drive/MyDrive/train_data/MobyDick.Gutenberg.txt'\n",
    "\n",
    "    # small_text = read_text(small_file_path)\n",
    "    # large_text = read_text(large_file_path)\n",
    "\n",
    "    large_text = \"\"\"Once upon a time, there lived a black cat. The cat belonged to a little girl called Katie. Every day, Katie\n",
    "                    would take her cat for a walk in the park.\n",
    "                    \n",
    "                    One day, as Katie and her cat were walking around, they saw a mean looking man. He said he wanted to\n",
    "                    take the cat, to which she replied ”This cat belongs\"\"\"\n",
    "\n",
    "    small_text = \"\"\"Once upon a time, there lived a black cat. The cat belonged to a little girl called Katie. Every day, Katie\n",
    "                    would take her cat for a walk in the park.\n",
    "                    \n",
    "                    One day, as Katie and her cat were walking around, they saw a mean looking man. He said he wanted to\n",
    "                    take the cat, to which she replied ”This cat belongs to me.”\n",
    "                    \n",
    "                    The mean man said “No, it’s mine.”\n",
    "                    \n",
    "                    Katie was very sad. She said “Please, I just want to take it for a walk.”\n",
    "                    \n",
    "                    The mean man thought for a moment and then said “Okay, you can take it. But you must promise to take care of it.”\n",
    "                    \n",
    "                    Katie was so happy. She thanked the mean man and took the cat for a walk. From then on, Katie and her black cat were the best of friends.\"\"\"\n",
    "\n",
    "    sentences = re.split(r'(?<=\\w[.!?])\\s', small_text)\n",
    "    lis_lengths = []\n",
    "\n",
    "    annotated_sentences = []\n",
    "    for sentence in sentences:\n",
    "        lis = longest_increasing_subsequence(sentence.split(), large_text.split())\n",
    "        lis_lengths.append(len(lis))\n",
    "        annotated_sentences.append(annotate_text(sentence, lis))\n",
    "\n",
    "    annotated_text = \"<br>\".join(annotated_sentences)\n",
    "\n",
    "    from IPython.core.display import display, HTML\n",
    "    display(HTML(annotated_text))\n",
    "\n",
    "    plt.hist(lis_lengths, bins=range(1, max(lis_lengths) + 2), edgecolor='black')\n",
    "    plt.xlabel('Length of LIS')\n",
    "    plt.ylabel('Frequency')\n",
    "    plt.title('Histogram of LIS Lengths')\n",
    "    plt.show()\n",
    "\n",
    "if __name__ == \"__main__\":\n",
    "    main()\n",
    "\n"
   ]
  },
  {
   "cell_type": "code",
   "execution_count": 18,
   "id": "1099e3f6-c861-457f-977f-9c8e3e84d00d",
   "metadata": {},
   "outputs": [
    {
     "name": "stderr",
     "output_type": "stream",
     "text": [
      "/tmp/ipykernel_41032/4113788808.py:97: DeprecationWarning: Importing display from IPython.core.display is deprecated since IPython 7.14, please import from IPython display\n",
      "  from IPython.core.display import display, HTML\n"
     ]
    },
    {
     "data": {
      "text/html": [
       "<span style='color: red; font-weight: bold;'>Once</span> <span style='color: red; font-weight: bold;'>upon</span> <span style='color: red; font-weight: bold;'>a</span> <span style='color: red; font-weight: bold;'>time,</span> <span style='color: red; font-weight: bold;'>there</span> <span style='color: red; font-weight: bold;'>lived</span> a <span style='color: red; font-weight: bold;'>black</span> <span style='color: red; font-weight: bold;'>cat.</span><br><span style='color: red; font-weight: bold;'>The</span> <span style='color: red; font-weight: bold;'>cat</span> <span style='color: red; font-weight: bold;'>belonged</span> <span style='color: red; font-weight: bold;'>to</span> <span style='color: red; font-weight: bold;'>a</span> <span style='color: red; font-weight: bold;'>little</span> <span style='color: red; font-weight: bold;'>girl</span> <span style='color: red; font-weight: bold;'>called</span> <span style='color: red; font-weight: bold;'>Katie.</span><br><span style='color: red; font-weight: bold;'>Every</span> <span style='color: red; font-weight: bold;'>day,</span> <span style='color: red; font-weight: bold;'>Katie</span> <span style='color: red; font-weight: bold;'>would</span> <span style='color: red; font-weight: bold;'>take</span> <span style='color: red; font-weight: bold;'>her</span> <span style='color: red; font-weight: bold;'>cat</span> <span style='color: red; font-weight: bold;'>for</span> <span style='color: red; font-weight: bold;'>a</span> <span style='color: red; font-weight: bold;'>walk</span> <span style='color: red; font-weight: bold;'>in</span> <span style='color: red; font-weight: bold;'>the</span> <span style='color: red; font-weight: bold;'>park.</span><br><span style='color: red; font-weight: bold;'>One</span> <span style='color: red; font-weight: bold;'>day,</span> <span style='color: red; font-weight: bold;'>as</span> <span style='color: red; font-weight: bold;'>Katie</span> <span style='color: red; font-weight: bold;'>and</span> <span style='color: red; font-weight: bold;'>her</span> <span style='color: red; font-weight: bold;'>cat</span> <span style='color: red; font-weight: bold;'>were</span> <span style='color: red; font-weight: bold;'>walking</span> <span style='color: red; font-weight: bold;'>around,</span> <span style='color: red; font-weight: bold;'>they</span> <span style='color: red; font-weight: bold;'>saw</span> <span style='color: red; font-weight: bold;'>a</span> <span style='color: red; font-weight: bold;'>mean</span> <span style='color: red; font-weight: bold;'>looking</span> <span style='color: red; font-weight: bold;'>man.</span><br><span style='color: red; font-weight: bold;'>He</span> <span style='color: red; font-weight: bold;'>said</span> <span style='color: red; font-weight: bold;'>he</span> <span style='color: red; font-weight: bold;'>wanted</span> <span style='color: red; font-weight: bold;'>to</span> <span style='color: red; font-weight: bold;'>take</span> <span style='color: red; font-weight: bold;'>the</span> <span style='color: red; font-weight: bold;'>cat,</span> to <span style='color: red; font-weight: bold;'>which</span> <span style='color: red; font-weight: bold;'>she</span> <span style='color: red; font-weight: bold;'>replied</span> <span style='color: red; font-weight: bold;'>”This</span> <span style='color: red; font-weight: bold;'>cat</span> <span style='color: red; font-weight: bold;'>belongs</span> to me!” Katie was scared, but she knew she had to do something.<br>She said <span style='color: red; font-weight: bold;'>to</span> <span style='color: red; font-weight: bold;'>the</span> man, “We should <span style='color: red; font-weight: bold;'>take</span> the <span style='color: red; font-weight: bold;'>cat</span> home.” The man agreed, <span style='color: red; font-weight: bold;'>and</span> <span style='color: red; font-weight: bold;'>they</span> took the cat home.<br>When <span style='color: red; font-weight: bold;'>they</span> got home, Katie's <span style='color: red; font-weight: bold;'>cat</span> was very happy.<br>She had <span style='color: red; font-weight: bold;'>a</span> new home <span style='color: red; font-weight: bold;'>and</span> <span style='color: red; font-weight: bold;'>she</span> was safe.<br><span style='color: red; font-weight: bold;'>The</span> moral of the story is that it’s important <span style='color: red; font-weight: bold;'>to</span> be kind <span style='color: red; font-weight: bold;'>and</span> help others.<br>Even if it means taking <span style='color: red; font-weight: bold;'>a</span> walk, it’s better <span style='color: red; font-weight: bold;'>to</span> be kind <span style='color: red; font-weight: bold;'>and</span> help others."
      ],
      "text/plain": [
       "<IPython.core.display.HTML object>"
      ]
     },
     "metadata": {},
     "output_type": "display_data"
    },
    {
     "data": {
      "image/png": "[encoded data removed]",
      "text/plain": [
       "<Figure size 640x480 with 1 Axes>"
      ]
     },
     "metadata": {},
     "output_type": "display_data"
    }
   ],
   "source": [
    "#8M\n",
    "import re\n",
    "import matplotlib.pyplot as plt\n",
    "\n",
    "\n",
    "def read_text(file_path):\n",
    "    with open(file_path, 'r', encoding='utf-8') as file:\n",
    "        return file.read()\n",
    "\n",
    "def longest_increasing_subsequence(xs, ys):\n",
    "    n = len(xs)\n",
    "    m = len(ys)\n",
    "\n",
    "    dp = [[0] * (m + 1) for _ in range(n + 1)]\n",
    "\n",
    "    for i in range(1, n + 1):\n",
    "        for j in range(1, m + 1):\n",
    "            if xs[i - 1] == ys[j - 1]:\n",
    "                dp[i][j] = dp[i - 1][j - 1] + 1\n",
    "            else:\n",
    "                dp[i][j] = max(dp[i - 1][j], dp[i][j - 1])\n",
    "\n",
    "    i, j = n, m\n",
    "    lis = []\n",
    "\n",
    "    while i > 0 and j > 0:\n",
    "        if xs[i - 1] == ys[j - 1]:\n",
    "            lis.append(xs[i - 1])\n",
    "            i -= 1\n",
    "            j -= 1\n",
    "        elif dp[i - 1][j] > dp[i][j - 1]:\n",
    "            i -= 1\n",
    "        else:\n",
    "            j -= 1\n",
    "\n",
    "    lis.reverse()\n",
    "\n",
    "    return lis\n",
    "\n",
    "def annotate_text(small_text, lis):\n",
    "\n",
    "    sentences = re.split(r'(?<=\\w[.!?])\\s', small_text)\n",
    "    lis_set = set(lis)\n",
    "    annotated_sentences = []\n",
    "\n",
    "    for sentence in sentences:\n",
    "        words = sentence.split()\n",
    "        annotated_sentence = []\n",
    "        for word in words:\n",
    "            if word in lis_set:\n",
    "                annotated_sentence.append(f\"<span style='color: red; font-weight: bold;'>{word}</span>\")\n",
    "                lis_set.remove(word)\n",
    "            else:\n",
    "                annotated_sentence.append(word)\n",
    "        annotated_sentences.append(\" \".join(annotated_sentence))\n",
    "\n",
    "    return \"<br>\".join(annotated_sentences)\n",
    "\n",
    "def main():\n",
    "    # small_file_path = '/content/drive/MyDrive/train_data/out-mobydick-1000iter.txt'\n",
    "    # large_file_path = '/content/drive/MyDrive/train_data/MobyDick.Gutenberg.txt'\n",
    "\n",
    "    # small_text = read_text(small_file_path)\n",
    "    # large_text = read_text(large_file_path)\n",
    "\n",
    "    large_text = \"\"\"Once upon a time, there lived a black cat. The cat belonged to a little girl called Katie. Every day, Katie\n",
    "                    would take her cat for a walk in the park.\n",
    "                    \n",
    "                    One day, as Katie and her cat were walking around, they saw a mean looking man. He said he wanted to\n",
    "                    take the cat, to which she replied ”This cat belongs\"\"\"\n",
    "\n",
    "    small_text = \"\"\"Once upon a time, there lived a black cat. The cat belonged to a little girl called Katie. Every day, Katie\n",
    "                    would take her cat for a walk in the park.\n",
    "                    \n",
    "                    One day, as Katie and her cat were walking around, they saw a mean looking man. He said he wanted to\n",
    "                    take the cat, to which she replied ”This cat belongs to me!”\n",
    "                    \n",
    "                    Katie was scared, but she knew she had to do something. She said to the man, “We should take the cat home.”\n",
    "                    \n",
    "                    The man agreed, and they took the cat home.\n",
    "                    \n",
    "                    When they got home, Katie's cat was very happy. She had a new home and she was safe.\n",
    "                    \n",
    "                    The moral of the story is that it’s important to be kind and help others. Even if it means taking a walk, it’s better to be kind and help others.\"\"\"\n",
    "\n",
    "    sentences = re.split(r'(?<=\\w[.!?])\\s', small_text)\n",
    "    lis_lengths = []\n",
    "\n",
    "    annotated_sentences = []\n",
    "    for sentence in sentences:\n",
    "        lis = longest_increasing_subsequence(sentence.split(), large_text.split())\n",
    "        lis_lengths.append(len(lis))\n",
    "        annotated_sentences.append(annotate_text(sentence, lis))\n",
    "\n",
    "    annotated_text = \"<br>\".join(annotated_sentences)\n",
    "\n",
    "    from IPython.core.display import display, HTML\n",
    "    display(HTML(annotated_text))\n",
    "\n",
    "    plt.hist(lis_lengths, bins=range(1, max(lis_lengths) + 2), edgecolor='black')\n",
    "    plt.xlabel('Length of LIS')\n",
    "    plt.ylabel('Frequency')\n",
    "    plt.title('Histogram of LIS Lengths')\n",
    "    plt.show()\n",
    "\n",
    "if __name__ == \"__main__\":\n",
    "    main()\n",
    "\n"
   ]
  },
  {
   "cell_type": "code",
   "execution_count": 19,
   "id": "1e82a2ab-ebde-437b-8715-de3d39db287d",
   "metadata": {},
   "outputs": [
    {
     "name": "stderr",
     "output_type": "stream",
     "text": [
      "The attention mask and the pad token id were not set. As a consequence, you may observe unexpected behavior. Please pass your input's `attention_mask` to obtain reliable results.\n",
      "Setting `pad_token_id` to `eos_token_id`:50256 for open-end generation.\n"
     ]
    },
    {
     "name": "stdout",
     "output_type": "stream",
     "text": [
      "Once upon a time, in an ancient house, there lived a girl named Lily. She loved to decorate her room with pretty things. One\n",
      "day, she found a big box in the attic. She opened it and saw many shiny decorations. Lily was very happy and decided to use\n",
      "them in her room.\n",
      "\n",
      "As Lily was decorating her room, the sky outside became dark. There was a loud noise and a big cloud of dust. Lily was scared and called for her mom. Her mom came and saw the dust. She told Lily that it was just a storm and that they would clean it up later.\n",
      "\n",
      "Lily and her mom cleaned up the dust together. They put the decorations back in the box and closed it. The next day, the storm was gone and the sun was shining. Lily and her mom went outside to play in the sunshine. They had a fun day together, and Lily was happy that her room was clean and safe.\n",
      "\n"
     ]
    }
   ],
   "source": [
    "from transformers import AutoModelForCausalLM, AutoTokenizer, GenerationConfig\n",
    "\n",
    "model = AutoModelForCausalLM.from_pretrained('./TinyStories-33M')\n",
    "tokenizer = AutoTokenizer.from_pretrained(\"./gpt-neo-125m\")\n",
    "prompt = \"\"\"Once upon a time, in an ancient house, there lived a girl named Lily. She loved to decorate her room with pretty things. One\n",
    "day, she found a big box in the attic. She opened it and saw many shiny decorations. Lily was very happy and decided to use\n",
    "them in her room.\n",
    "\n",
    "As Lily was decorating her room, the sky outside became dark. There was a loud\"\"\"\n",
    "input_ids = tokenizer.encode(prompt, return_tensors=\"pt\")\n",
    "\n",
    "# Generate completion\n",
    "output = model.generate(input_ids, max_length = 10000, num_beams=1)\n",
    "\n",
    "# Decode the completion\n",
    "output_text = tokenizer.decode(output[0], skip_special_tokens=True)\n",
    "\n",
    "# Print the generated text\n",
    "print(output_text)"
   ]
  },
  {
   "cell_type": "code",
   "execution_count": 20,
   "id": "c7fdc9a4-4ebf-4e9e-85cc-2161f4c391ee",
   "metadata": {},
   "outputs": [
    {
     "name": "stderr",
     "output_type": "stream",
     "text": [
      "The attention mask and the pad token id were not set. As a consequence, you may observe unexpected behavior. Please pass your input's `attention_mask` to obtain reliable results.\n",
      "Setting `pad_token_id` to `eos_token_id`:50256 for open-end generation.\n"
     ]
    },
    {
     "name": "stdout",
     "output_type": "stream",
     "text": [
      "Once upon a time, in an ancient house, there lived a girl named Lily. She loved to decorate her room with pretty things. One\n",
      "day, she found a big box in the attic. She opened it and saw many shiny decorations. Lily was very happy and decided to use\n",
      "them in her room.\n",
      "\n",
      "As Lily was decorating her room, the sky outside became dark. There was a loud noise, like a big boom. Lily was scared, but she remembered what her mommy said.\n",
      "\n",
      "\"Don't worry, Lily. I will protect you from the loud noise,\" said her mommy.\n",
      "\n",
      "Lily felt better and went back to decorating her room. She put up pretty pictures and made it look even more beautiful. From that day on, Lily knew that she could always count on her mommy to protect her.\n",
      "\n"
     ]
    }
   ],
   "source": [
    "from transformers import AutoModelForCausalLM, AutoTokenizer, GenerationConfig\n",
    "\n",
    "model = AutoModelForCausalLM.from_pretrained('./TinyStories-8M')\n",
    "tokenizer = AutoTokenizer.from_pretrained(\"./gpt-neo-125m\")\n",
    "prompt = \"\"\"Once upon a time, in an ancient house, there lived a girl named Lily. She loved to decorate her room with pretty things. One\n",
    "day, she found a big box in the attic. She opened it and saw many shiny decorations. Lily was very happy and decided to use\n",
    "them in her room.\n",
    "\n",
    "As Lily was decorating her room, the sky outside became dark. There was a loud\"\"\"\n",
    "input_ids = tokenizer.encode(prompt, return_tensors=\"pt\")\n",
    "\n",
    "# Generate completion\n",
    "output = model.generate(input_ids, max_length = 10000, num_beams=1)\n",
    "\n",
    "# Decode the completion\n",
    "output_text = tokenizer.decode(output[0], skip_special_tokens=True)\n",
    "\n",
    "# Print the generated text\n",
    "print(output_text)"
   ]
  },
  {
   "cell_type": "code",
   "execution_count": 21,
   "id": "b3a92518-1b9a-4faf-a80d-9c249a9afb08",
   "metadata": {},
   "outputs": [
    {
     "name": "stderr",
     "output_type": "stream",
     "text": [
      "The attention mask and the pad token id were not set. As a consequence, you may observe unexpected behavior. Please pass your input's `attention_mask` to obtain reliable results.\n",
      "Setting `pad_token_id` to `eos_token_id`:50256 for open-end generation.\n"
     ]
    },
    {
     "name": "stdout",
     "output_type": "stream",
     "text": [
      "Once upon a time, in an ancient house, there lived a girl named Lily. She loved to decorate her room with pretty things. One\n",
      "day, she found a big box in the attic. She opened it and saw many shiny decorations. Lily was very happy and decided to use\n",
      "them in her room.\n",
      "\n",
      "As Lily was decorating her room, the sky outside became dark. There was a loud noise and a big storm came. Lily was scared and ran to her room.\n",
      "\n",
      "But then, she remembered her mom's words. She remembered that she had a special gift for her mom. She took it to her room and put it in her room.\n",
      "\n",
      "Lily was very happy and proud of her gift. She knew that she had made a new friend and that she could always remember her mom's words.\n",
      "\n"
     ]
    }
   ],
   "source": [
    "from transformers import AutoModelForCausalLM, AutoTokenizer, GenerationConfig\n",
    "\n",
    "model = AutoModelForCausalLM.from_pretrained('./TinyStories-3M')\n",
    "tokenizer = AutoTokenizer.from_pretrained(\"./gpt-neo-125m\")\n",
    "prompt = \"\"\"Once upon a time, in an ancient house, there lived a girl named Lily. She loved to decorate her room with pretty things. One\n",
    "day, she found a big box in the attic. She opened it and saw many shiny decorations. Lily was very happy and decided to use\n",
    "them in her room.\n",
    "\n",
    "As Lily was decorating her room, the sky outside became dark. There was a loud\"\"\"\n",
    "input_ids = tokenizer.encode(prompt, return_tensors=\"pt\")\n",
    "\n",
    "# Generate completion\n",
    "output = model.generate(input_ids, max_length = 10000, num_beams=1)\n",
    "\n",
    "# Decode the completion\n",
    "output_text = tokenizer.decode(output[0], skip_special_tokens=True)\n",
    "\n",
    "# Print the generated text\n",
    "print(output_text)"
   ]
  },
  {
   "cell_type": "code",
   "execution_count": 22,
   "id": "da8e62da-0ba3-4fe8-a502-8121760b8942",
   "metadata": {},
   "outputs": [
    {
     "name": "stderr",
     "output_type": "stream",
     "text": [
      "/tmp/ipykernel_41032/655795730.py:92: DeprecationWarning: Importing display from IPython.core.display is deprecated since IPython 7.14, please import from IPython display\n",
      "  from IPython.core.display import display, HTML\n"
     ]
    },
    {
     "data": {
      "text/html": [
       "<span style='color: red; font-weight: bold;'>Once</span> <span style='color: red; font-weight: bold;'>upon</span> <span style='color: red; font-weight: bold;'>a</span> <span style='color: red; font-weight: bold;'>time,</span> <span style='color: red; font-weight: bold;'>in</span> <span style='color: red; font-weight: bold;'>an</span> <span style='color: red; font-weight: bold;'>ancient</span> <span style='color: red; font-weight: bold;'>house,</span> <span style='color: red; font-weight: bold;'>there</span> <span style='color: red; font-weight: bold;'>lived</span> a <span style='color: red; font-weight: bold;'>girl</span> <span style='color: red; font-weight: bold;'>named</span> <span style='color: red; font-weight: bold;'>Lily.</span><br><span style='color: red; font-weight: bold;'>She</span> <span style='color: red; font-weight: bold;'>loved</span> <span style='color: red; font-weight: bold;'>to</span> <span style='color: red; font-weight: bold;'>decorate</span> <span style='color: red; font-weight: bold;'>her</span> <span style='color: red; font-weight: bold;'>room</span> <span style='color: red; font-weight: bold;'>with</span> <span style='color: red; font-weight: bold;'>pretty</span> <span style='color: red; font-weight: bold;'>things.</span><br><span style='color: red; font-weight: bold;'>One</span> <span style='color: red; font-weight: bold;'>day,</span> <span style='color: red; font-weight: bold;'>she</span> <span style='color: red; font-weight: bold;'>found</span> <span style='color: red; font-weight: bold;'>a</span> <span style='color: red; font-weight: bold;'>big</span> <span style='color: red; font-weight: bold;'>box</span> <span style='color: red; font-weight: bold;'>in</span> <span style='color: red; font-weight: bold;'>the</span> <span style='color: red; font-weight: bold;'>attic.</span><br><span style='color: red; font-weight: bold;'>She</span> <span style='color: red; font-weight: bold;'>opened</span> <span style='color: red; font-weight: bold;'>it</span> <span style='color: red; font-weight: bold;'>and</span> <span style='color: red; font-weight: bold;'>saw</span> <span style='color: red; font-weight: bold;'>many</span> <span style='color: red; font-weight: bold;'>shiny</span> <span style='color: red; font-weight: bold;'>decorations.</span><br><span style='color: red; font-weight: bold;'>Lily</span> <span style='color: red; font-weight: bold;'>was</span> <span style='color: red; font-weight: bold;'>very</span> <span style='color: red; font-weight: bold;'>happy</span> <span style='color: red; font-weight: bold;'>and</span> <span style='color: red; font-weight: bold;'>decided</span> <span style='color: red; font-weight: bold;'>to</span> <span style='color: red; font-weight: bold;'>use</span> <span style='color: red; font-weight: bold;'>them</span> <span style='color: red; font-weight: bold;'>in</span> <span style='color: red; font-weight: bold;'>her</span> <span style='color: red; font-weight: bold;'>room.</span><br><span style='color: red; font-weight: bold;'>As</span> <span style='color: red; font-weight: bold;'>Lily</span> <span style='color: red; font-weight: bold;'>was</span> <span style='color: red; font-weight: bold;'>decorating</span> <span style='color: red; font-weight: bold;'>her</span> <span style='color: red; font-weight: bold;'>room,</span> <span style='color: red; font-weight: bold;'>the</span> <span style='color: red; font-weight: bold;'>sky</span> <span style='color: red; font-weight: bold;'>outside</span> <span style='color: red; font-weight: bold;'>became</span> <span style='color: red; font-weight: bold;'>dark.</span><br><span style='color: red; font-weight: bold;'>There</span> <span style='color: red; font-weight: bold;'>was</span> <span style='color: red; font-weight: bold;'>a</span> <span style='color: red; font-weight: bold;'>loud</span> noise and a big cloud of dust.<br><span style='color: red; font-weight: bold;'>Lily</span> <span style='color: red; font-weight: bold;'>was</span> scared <span style='color: red; font-weight: bold;'>and</span> called for <span style='color: red; font-weight: bold;'>her</span> mom.<br>Her mom came <span style='color: red; font-weight: bold;'>and</span> <span style='color: red; font-weight: bold;'>saw</span> <span style='color: red; font-weight: bold;'>the</span> dust.<br><span style='color: red; font-weight: bold;'>She</span> told Lily that <span style='color: red; font-weight: bold;'>it</span> <span style='color: red; font-weight: bold;'>was</span> just a storm <span style='color: red; font-weight: bold;'>and</span> that they would clean it up later.<br><span style='color: red; font-weight: bold;'>Lily</span> <span style='color: red; font-weight: bold;'>and</span> <span style='color: red; font-weight: bold;'>her</span> mom cleaned up <span style='color: red; font-weight: bold;'>the</span> dust together.<br>They put the decorations back <span style='color: red; font-weight: bold;'>in</span> the <span style='color: red; font-weight: bold;'>box</span> <span style='color: red; font-weight: bold;'>and</span> closed it.<br>The next <span style='color: red; font-weight: bold;'>day,</span> <span style='color: red; font-weight: bold;'>the</span> storm <span style='color: red; font-weight: bold;'>was</span> gone <span style='color: red; font-weight: bold;'>and</span> the sun was shining.<br><span style='color: red; font-weight: bold;'>Lily</span> <span style='color: red; font-weight: bold;'>and</span> her mom went outside <span style='color: red; font-weight: bold;'>to</span> play <span style='color: red; font-weight: bold;'>in</span> <span style='color: red; font-weight: bold;'>the</span> sunshine.<br>They had <span style='color: red; font-weight: bold;'>a</span> fun day together, <span style='color: red; font-weight: bold;'>and</span> <span style='color: red; font-weight: bold;'>Lily</span> <span style='color: red; font-weight: bold;'>was</span> <span style='color: red; font-weight: bold;'>happy</span> that <span style='color: red; font-weight: bold;'>her</span> room was clean and safe.<br>"
      ],
      "text/plain": [
       "<IPython.core.display.HTML object>"
      ]
     },
     "metadata": {},
     "output_type": "display_data"
    },
    {
     "data": {
      "image/png": "[encoded data removed]",
      "text/plain": [
       "<Figure size 640x480 with 1 Axes>"
      ]
     },
     "metadata": {},
     "output_type": "display_data"
    }
   ],
   "source": [
    "#33M\n",
    "import re\n",
    "import matplotlib.pyplot as plt\n",
    "\n",
    "\n",
    "def read_text(file_path):\n",
    "    with open(file_path, 'r', encoding='utf-8') as file:\n",
    "        return file.read()\n",
    "\n",
    "def longest_increasing_subsequence(xs, ys):\n",
    "    n = len(xs)\n",
    "    m = len(ys)\n",
    "\n",
    "    dp = [[0] * (m + 1) for _ in range(n + 1)]\n",
    "\n",
    "    for i in range(1, n + 1):\n",
    "        for j in range(1, m + 1):\n",
    "            if xs[i - 1] == ys[j - 1]:\n",
    "                dp[i][j] = dp[i - 1][j - 1] + 1\n",
    "            else:\n",
    "                dp[i][j] = max(dp[i - 1][j], dp[i][j - 1])\n",
    "\n",
    "    i, j = n, m\n",
    "    lis = []\n",
    "\n",
    "    while i > 0 and j > 0:\n",
    "        if xs[i - 1] == ys[j - 1]:\n",
    "            lis.append(xs[i - 1])\n",
    "            i -= 1\n",
    "            j -= 1\n",
    "        elif dp[i - 1][j] > dp[i][j - 1]:\n",
    "            i -= 1\n",
    "        else:\n",
    "            j -= 1\n",
    "\n",
    "    lis.reverse()\n",
    "\n",
    "    return lis\n",
    "\n",
    "def annotate_text(small_text, lis):\n",
    "\n",
    "    sentences = re.split(r'(?<=\\w[.!?])\\s', small_text)\n",
    "    lis_set = set(lis)\n",
    "    annotated_sentences = []\n",
    "\n",
    "    for sentence in sentences:\n",
    "        words = sentence.split()\n",
    "        annotated_sentence = []\n",
    "        for word in words:\n",
    "            if word in lis_set:\n",
    "                annotated_sentence.append(f\"<span style='color: red; font-weight: bold;'>{word}</span>\")\n",
    "                lis_set.remove(word)\n",
    "            else:\n",
    "                annotated_sentence.append(word)\n",
    "        annotated_sentences.append(\" \".join(annotated_sentence))\n",
    "\n",
    "    return \"<br>\".join(annotated_sentences)\n",
    "\n",
    "def main():\n",
    "    # small_file_path = '/content/drive/MyDrive/train_data/out-mobydick-1000iter.txt'\n",
    "    # large_file_path = '/content/drive/MyDrive/train_data/MobyDick.Gutenberg.txt'\n",
    "\n",
    "    # small_text = read_text(small_file_path)\n",
    "    # large_text = read_text(large_file_path)\n",
    "\n",
    "    large_text = \"\"\"Once upon a time, in an ancient house, there lived a girl named Lily. She loved to decorate her room with pretty things. One\n",
    "                    day, she found a big box in the attic. She opened it and saw many shiny decorations. Lily was very happy and decided to use\n",
    "                    them in her room.\n",
    "                    \n",
    "                    As Lily was decorating her room, the sky outside became dark. There was a loud\"\"\"\n",
    "\n",
    "    small_text = \"\"\"Once upon a time, in an ancient house, there lived a girl named Lily. She loved to decorate her room with pretty things. One\n",
    "                    day, she found a big box in the attic. She opened it and saw many shiny decorations. Lily was very happy and decided to use\n",
    "                    them in her room.\n",
    "                    \n",
    "                    As Lily was decorating her room, the sky outside became dark. There was a loud noise and a big cloud of dust. Lily was scared and called for her mom. Her mom came and saw the dust. She told Lily that it was just a storm and that they would clean it up later.\n",
    "                    \n",
    "                    Lily and her mom cleaned up the dust together. They put the decorations back in the box and closed it. The next day, the storm was gone and the sun was shining. Lily and her mom went outside to play in the sunshine. They had a fun day together, and Lily was happy that her room was clean and safe.\n",
    "                    \"\"\"\n",
    "\n",
    "    sentences = re.split(r'(?<=\\w[.!?])\\s', small_text)\n",
    "    lis_lengths = []\n",
    "\n",
    "    annotated_sentences = []\n",
    "    for sentence in sentences:\n",
    "        lis = longest_increasing_subsequence(sentence.split(), large_text.split())\n",
    "        lis_lengths.append(len(lis))\n",
    "        annotated_sentences.append(annotate_text(sentence, lis))\n",
    "\n",
    "    annotated_text = \"<br>\".join(annotated_sentences)\n",
    "\n",
    "    from IPython.core.display import display, HTML\n",
    "    display(HTML(annotated_text))\n",
    "\n",
    "    plt.hist(lis_lengths, bins=range(1, max(lis_lengths) + 2), edgecolor='black')\n",
    "    plt.xlabel('Length of LIS')\n",
    "    plt.ylabel('Frequency')\n",
    "    plt.title('Histogram of LIS Lengths')\n",
    "    plt.show()\n",
    "\n",
    "if __name__ == \"__main__\":\n",
    "    main()\n",
    "\n"
   ]
  },
  {
   "cell_type": "code",
   "execution_count": 23,
   "id": "347261c7-cccf-4f99-a45c-3fbba23108b1",
   "metadata": {},
   "outputs": [
    {
     "name": "stderr",
     "output_type": "stream",
     "text": [
      "/tmp/ipykernel_41032/4023106178.py:93: DeprecationWarning: Importing display from IPython.core.display is deprecated since IPython 7.14, please import from IPython display\n",
      "  from IPython.core.display import display, HTML\n"
     ]
    },
    {
     "data": {
      "text/html": [
       "<span style='color: red; font-weight: bold;'>Once</span> <span style='color: red; font-weight: bold;'>upon</span> <span style='color: red; font-weight: bold;'>a</span> <span style='color: red; font-weight: bold;'>time,</span> <span style='color: red; font-weight: bold;'>in</span> <span style='color: red; font-weight: bold;'>an</span> <span style='color: red; font-weight: bold;'>ancient</span> <span style='color: red; font-weight: bold;'>house,</span> <span style='color: red; font-weight: bold;'>there</span> <span style='color: red; font-weight: bold;'>lived</span> a <span style='color: red; font-weight: bold;'>girl</span> <span style='color: red; font-weight: bold;'>named</span> <span style='color: red; font-weight: bold;'>Lily.</span><br><span style='color: red; font-weight: bold;'>She</span> <span style='color: red; font-weight: bold;'>loved</span> <span style='color: red; font-weight: bold;'>to</span> <span style='color: red; font-weight: bold;'>decorate</span> <span style='color: red; font-weight: bold;'>her</span> <span style='color: red; font-weight: bold;'>room</span> <span style='color: red; font-weight: bold;'>with</span> <span style='color: red; font-weight: bold;'>pretty</span> <span style='color: red; font-weight: bold;'>things.</span><br><span style='color: red; font-weight: bold;'>One</span> <span style='color: red; font-weight: bold;'>day,</span> <span style='color: red; font-weight: bold;'>she</span> <span style='color: red; font-weight: bold;'>found</span> <span style='color: red; font-weight: bold;'>a</span> <span style='color: red; font-weight: bold;'>big</span> <span style='color: red; font-weight: bold;'>box</span> <span style='color: red; font-weight: bold;'>in</span> <span style='color: red; font-weight: bold;'>the</span> <span style='color: red; font-weight: bold;'>attic.</span><br><span style='color: red; font-weight: bold;'>She</span> <span style='color: red; font-weight: bold;'>opened</span> <span style='color: red; font-weight: bold;'>it</span> <span style='color: red; font-weight: bold;'>and</span> <span style='color: red; font-weight: bold;'>saw</span> <span style='color: red; font-weight: bold;'>many</span> <span style='color: red; font-weight: bold;'>shiny</span> <span style='color: red; font-weight: bold;'>decorations.</span><br><span style='color: red; font-weight: bold;'>Lily</span> <span style='color: red; font-weight: bold;'>was</span> <span style='color: red; font-weight: bold;'>very</span> <span style='color: red; font-weight: bold;'>happy</span> <span style='color: red; font-weight: bold;'>and</span> <span style='color: red; font-weight: bold;'>decided</span> <span style='color: red; font-weight: bold;'>to</span> <span style='color: red; font-weight: bold;'>use</span> <span style='color: red; font-weight: bold;'>them</span> <span style='color: red; font-weight: bold;'>in</span> <span style='color: red; font-weight: bold;'>her</span> <span style='color: red; font-weight: bold;'>room.</span><br><span style='color: red; font-weight: bold;'>As</span> <span style='color: red; font-weight: bold;'>Lily</span> <span style='color: red; font-weight: bold;'>was</span> <span style='color: red; font-weight: bold;'>decorating</span> <span style='color: red; font-weight: bold;'>her</span> <span style='color: red; font-weight: bold;'>room,</span> <span style='color: red; font-weight: bold;'>the</span> <span style='color: red; font-weight: bold;'>sky</span> <span style='color: red; font-weight: bold;'>outside</span> <span style='color: red; font-weight: bold;'>became</span> <span style='color: red; font-weight: bold;'>dark.</span><br><span style='color: red; font-weight: bold;'>There</span> <span style='color: red; font-weight: bold;'>was</span> <span style='color: red; font-weight: bold;'>a</span> <span style='color: red; font-weight: bold;'>loud</span> noise, like a big boom.<br><span style='color: red; font-weight: bold;'>Lily</span> <span style='color: red; font-weight: bold;'>was</span> scared, but she remembered what <span style='color: red; font-weight: bold;'>her</span> mommy said.<br>\"Don't worry, <span style='color: red; font-weight: bold;'>Lily.</span><br>I will protect you from <span style='color: red; font-weight: bold;'>the</span> loud noise,\" said <span style='color: red; font-weight: bold;'>her</span> mommy.<br><span style='color: red; font-weight: bold;'>Lily</span> felt better <span style='color: red; font-weight: bold;'>and</span> went back <span style='color: red; font-weight: bold;'>to</span> decorating <span style='color: red; font-weight: bold;'>her</span> <span style='color: red; font-weight: bold;'>room.</span><br><span style='color: red; font-weight: bold;'>She</span> put up <span style='color: red; font-weight: bold;'>pretty</span> pictures and made <span style='color: red; font-weight: bold;'>it</span> look even more beautiful.<br>From that day on, Lily knew that she could always count on <span style='color: red; font-weight: bold;'>her</span> mommy <span style='color: red; font-weight: bold;'>to</span> protect her."
      ],
      "text/plain": [
       "<IPython.core.display.HTML object>"
      ]
     },
     "metadata": {},
     "output_type": "display_data"
    },
    {
     "data": {
      "image/png": "[encoded data removed]",
      "text/plain": [
       "<Figure size 640x480 with 1 Axes>"
      ]
     },
     "metadata": {},
     "output_type": "display_data"
    }
   ],
   "source": [
    "#8M\n",
    "import re\n",
    "import matplotlib.pyplot as plt\n",
    "\n",
    "\n",
    "def read_text(file_path):\n",
    "    with open(file_path, 'r', encoding='utf-8') as file:\n",
    "        return file.read()\n",
    "\n",
    "def longest_increasing_subsequence(xs, ys):\n",
    "    n = len(xs)\n",
    "    m = len(ys)\n",
    "\n",
    "    dp = [[0] * (m + 1) for _ in range(n + 1)]\n",
    "\n",
    "    for i in range(1, n + 1):\n",
    "        for j in range(1, m + 1):\n",
    "            if xs[i - 1] == ys[j - 1]:\n",
    "                dp[i][j] = dp[i - 1][j - 1] + 1\n",
    "            else:\n",
    "                dp[i][j] = max(dp[i - 1][j], dp[i][j - 1])\n",
    "\n",
    "    i, j = n, m\n",
    "    lis = []\n",
    "\n",
    "    while i > 0 and j > 0:\n",
    "        if xs[i - 1] == ys[j - 1]:\n",
    "            lis.append(xs[i - 1])\n",
    "            i -= 1\n",
    "            j -= 1\n",
    "        elif dp[i - 1][j] > dp[i][j - 1]:\n",
    "            i -= 1\n",
    "        else:\n",
    "            j -= 1\n",
    "\n",
    "    lis.reverse()\n",
    "\n",
    "    return lis\n",
    "\n",
    "def annotate_text(small_text, lis):\n",
    "\n",
    "    sentences = re.split(r'(?<=\\w[.!?])\\s', small_text)\n",
    "    lis_set = set(lis)\n",
    "    annotated_sentences = []\n",
    "\n",
    "    for sentence in sentences:\n",
    "        words = sentence.split()\n",
    "        annotated_sentence = []\n",
    "        for word in words:\n",
    "            if word in lis_set:\n",
    "                annotated_sentence.append(f\"<span style='color: red; font-weight: bold;'>{word}</span>\")\n",
    "                lis_set.remove(word)\n",
    "            else:\n",
    "                annotated_sentence.append(word)\n",
    "        annotated_sentences.append(\" \".join(annotated_sentence))\n",
    "\n",
    "    return \"<br>\".join(annotated_sentences)\n",
    "\n",
    "def main():\n",
    "    # small_file_path = '/content/drive/MyDrive/train_data/out-mobydick-1000iter.txt'\n",
    "    # large_file_path = '/content/drive/MyDrive/train_data/MobyDick.Gutenberg.txt'\n",
    "\n",
    "    # small_text = read_text(small_file_path)\n",
    "    # large_text = read_text(large_file_path)\n",
    "\n",
    "    large_text = \"\"\"Once upon a time, in an ancient house, there lived a girl named Lily. She loved to decorate her room with pretty things. One\n",
    "                    day, she found a big box in the attic. She opened it and saw many shiny decorations. Lily was very happy and decided to use\n",
    "                    them in her room.\n",
    "                    \n",
    "                    As Lily was decorating her room, the sky outside became dark. There was a loud\"\"\"\n",
    "\n",
    "    small_text = \"\"\"Once upon a time, in an ancient house, there lived a girl named Lily. She loved to decorate her room with pretty things. One\n",
    "                    day, she found a big box in the attic. She opened it and saw many shiny decorations. Lily was very happy and decided to use\n",
    "                    them in her room.\n",
    "                    \n",
    "                    As Lily was decorating her room, the sky outside became dark. There was a loud noise, like a big boom. Lily was scared, but she remembered what her mommy said.\n",
    "                    \n",
    "                    \"Don't worry, Lily. I will protect you from the loud noise,\" said her mommy.\n",
    "                    \n",
    "                    Lily felt better and went back to decorating her room. She put up pretty pictures and made it look even more beautiful. From that day on, Lily knew that she could always count on her mommy to protect her.\"\"\"\n",
    "\n",
    "    sentences = re.split(r'(?<=\\w[.!?])\\s', small_text)\n",
    "    lis_lengths = []\n",
    "\n",
    "    annotated_sentences = []\n",
    "    for sentence in sentences:\n",
    "        lis = longest_increasing_subsequence(sentence.split(), large_text.split())\n",
    "        lis_lengths.append(len(lis))\n",
    "        annotated_sentences.append(annotate_text(sentence, lis))\n",
    "\n",
    "    annotated_text = \"<br>\".join(annotated_sentences)\n",
    "\n",
    "    from IPython.core.display import display, HTML\n",
    "    display(HTML(annotated_text))\n",
    "\n",
    "    plt.hist(lis_lengths, bins=range(1, max(lis_lengths) + 2), edgecolor='black')\n",
    "    plt.xlabel('Length of LIS')\n",
    "    plt.ylabel('Frequency')\n",
    "    plt.title('Histogram of LIS Lengths')\n",
    "    plt.show()\n",
    "\n",
    "if __name__ == \"__main__\":\n",
    "    main()\n",
    "\n"
   ]
  },
  {
   "cell_type": "code",
   "execution_count": 24,
   "id": "bb580505-50b0-4d1c-98f8-9be1074e594b",
   "metadata": {},
   "outputs": [
    {
     "name": "stderr",
     "output_type": "stream",
     "text": [
      "/tmp/ipykernel_41032/2079199157.py:93: DeprecationWarning: Importing display from IPython.core.display is deprecated since IPython 7.14, please import from IPython display\n",
      "  from IPython.core.display import display, HTML\n"
     ]
    },
    {
     "data": {
      "text/html": [
       "<span style='color: red; font-weight: bold;'>Once</span> <span style='color: red; font-weight: bold;'>upon</span> <span style='color: red; font-weight: bold;'>a</span> <span style='color: red; font-weight: bold;'>time,</span> <span style='color: red; font-weight: bold;'>in</span> <span style='color: red; font-weight: bold;'>an</span> <span style='color: red; font-weight: bold;'>ancient</span> <span style='color: red; font-weight: bold;'>house,</span> <span style='color: red; font-weight: bold;'>there</span> <span style='color: red; font-weight: bold;'>lived</span> a <span style='color: red; font-weight: bold;'>girl</span> <span style='color: red; font-weight: bold;'>named</span> <span style='color: red; font-weight: bold;'>Lily.</span><br><span style='color: red; font-weight: bold;'>She</span> <span style='color: red; font-weight: bold;'>loved</span> <span style='color: red; font-weight: bold;'>to</span> <span style='color: red; font-weight: bold;'>decorate</span> <span style='color: red; font-weight: bold;'>her</span> <span style='color: red; font-weight: bold;'>room</span> <span style='color: red; font-weight: bold;'>with</span> <span style='color: red; font-weight: bold;'>pretty</span> <span style='color: red; font-weight: bold;'>things.</span><br><span style='color: red; font-weight: bold;'>One</span> <span style='color: red; font-weight: bold;'>day,</span> <span style='color: red; font-weight: bold;'>she</span> <span style='color: red; font-weight: bold;'>found</span> <span style='color: red; font-weight: bold;'>a</span> <span style='color: red; font-weight: bold;'>big</span> <span style='color: red; font-weight: bold;'>box</span> <span style='color: red; font-weight: bold;'>in</span> <span style='color: red; font-weight: bold;'>the</span> <span style='color: red; font-weight: bold;'>attic.</span><br><span style='color: red; font-weight: bold;'>She</span> <span style='color: red; font-weight: bold;'>opened</span> <span style='color: red; font-weight: bold;'>it</span> <span style='color: red; font-weight: bold;'>and</span> <span style='color: red; font-weight: bold;'>saw</span> <span style='color: red; font-weight: bold;'>many</span> <span style='color: red; font-weight: bold;'>shiny</span> <span style='color: red; font-weight: bold;'>decorations.</span><br><span style='color: red; font-weight: bold;'>Lily</span> <span style='color: red; font-weight: bold;'>was</span> <span style='color: red; font-weight: bold;'>very</span> <span style='color: red; font-weight: bold;'>happy</span> <span style='color: red; font-weight: bold;'>and</span> <span style='color: red; font-weight: bold;'>decided</span> <span style='color: red; font-weight: bold;'>to</span> <span style='color: red; font-weight: bold;'>use</span> <span style='color: red; font-weight: bold;'>them</span> <span style='color: red; font-weight: bold;'>in</span> <span style='color: red; font-weight: bold;'>her</span> <span style='color: red; font-weight: bold;'>room.</span><br><span style='color: red; font-weight: bold;'>As</span> <span style='color: red; font-weight: bold;'>Lily</span> <span style='color: red; font-weight: bold;'>was</span> <span style='color: red; font-weight: bold;'>decorating</span> <span style='color: red; font-weight: bold;'>her</span> <span style='color: red; font-weight: bold;'>room,</span> <span style='color: red; font-weight: bold;'>the</span> <span style='color: red; font-weight: bold;'>sky</span> <span style='color: red; font-weight: bold;'>outside</span> <span style='color: red; font-weight: bold;'>became</span> <span style='color: red; font-weight: bold;'>dark.</span><br><span style='color: red; font-weight: bold;'>There</span> <span style='color: red; font-weight: bold;'>was</span> <span style='color: red; font-weight: bold;'>a</span> <span style='color: red; font-weight: bold;'>loud</span> noise and a big storm came.<br><span style='color: red; font-weight: bold;'>Lily</span> <span style='color: red; font-weight: bold;'>was</span> scared <span style='color: red; font-weight: bold;'>and</span> ran <span style='color: red; font-weight: bold;'>to</span> <span style='color: red; font-weight: bold;'>her</span> <span style='color: red; font-weight: bold;'>room.</span><br>But then, <span style='color: red; font-weight: bold;'>she</span> remembered <span style='color: red; font-weight: bold;'>her</span> mom's words.<br><span style='color: red; font-weight: bold;'>She</span> remembered that <span style='color: red; font-weight: bold;'>she</span> had <span style='color: red; font-weight: bold;'>a</span> special gift for <span style='color: red; font-weight: bold;'>her</span> mom.<br><span style='color: red; font-weight: bold;'>She</span> took <span style='color: red; font-weight: bold;'>it</span> <span style='color: red; font-weight: bold;'>to</span> <span style='color: red; font-weight: bold;'>her</span> <span style='color: red; font-weight: bold;'>room</span> and put it <span style='color: red; font-weight: bold;'>in</span> her <span style='color: red; font-weight: bold;'>room.</span><br><span style='color: red; font-weight: bold;'>Lily</span> <span style='color: red; font-weight: bold;'>was</span> <span style='color: red; font-weight: bold;'>very</span> <span style='color: red; font-weight: bold;'>happy</span> <span style='color: red; font-weight: bold;'>and</span> proud of <span style='color: red; font-weight: bold;'>her</span> gift.<br><span style='color: red; font-weight: bold;'>She</span> knew that <span style='color: red; font-weight: bold;'>she</span> had made <span style='color: red; font-weight: bold;'>a</span> new friend <span style='color: red; font-weight: bold;'>and</span> that she could always remember <span style='color: red; font-weight: bold;'>her</span> mom's words."
      ],
      "text/plain": [
       "<IPython.core.display.HTML object>"
      ]
     },
     "metadata": {},
     "output_type": "display_data"
    },
    {
     "data": {
      "image/png": "[encoded data removed]",
      "text/plain": [
       "<Figure size 640x480 with 1 Axes>"
      ]
     },
     "metadata": {},
     "output_type": "display_data"
    }
   ],
   "source": [
    "#3M\n",
    "import re\n",
    "import matplotlib.pyplot as plt\n",
    "\n",
    "\n",
    "def read_text(file_path):\n",
    "    with open(file_path, 'r', encoding='utf-8') as file:\n",
    "        return file.read()\n",
    "\n",
    "def longest_increasing_subsequence(xs, ys):\n",
    "    n = len(xs)\n",
    "    m = len(ys)\n",
    "\n",
    "    dp = [[0] * (m + 1) for _ in range(n + 1)]\n",
    "\n",
    "    for i in range(1, n + 1):\n",
    "        for j in range(1, m + 1):\n",
    "            if xs[i - 1] == ys[j - 1]:\n",
    "                dp[i][j] = dp[i - 1][j - 1] + 1\n",
    "            else:\n",
    "                dp[i][j] = max(dp[i - 1][j], dp[i][j - 1])\n",
    "\n",
    "    i, j = n, m\n",
    "    lis = []\n",
    "\n",
    "    while i > 0 and j > 0:\n",
    "        if xs[i - 1] == ys[j - 1]:\n",
    "            lis.append(xs[i - 1])\n",
    "            i -= 1\n",
    "            j -= 1\n",
    "        elif dp[i - 1][j] > dp[i][j - 1]:\n",
    "            i -= 1\n",
    "        else:\n",
    "            j -= 1\n",
    "\n",
    "    lis.reverse()\n",
    "\n",
    "    return lis\n",
    "\n",
    "def annotate_text(small_text, lis):\n",
    "\n",
    "    sentences = re.split(r'(?<=\\w[.!?])\\s', small_text)\n",
    "    lis_set = set(lis)\n",
    "    annotated_sentences = []\n",
    "\n",
    "    for sentence in sentences:\n",
    "        words = sentence.split()\n",
    "        annotated_sentence = []\n",
    "        for word in words:\n",
    "            if word in lis_set:\n",
    "                annotated_sentence.append(f\"<span style='color: red; font-weight: bold;'>{word}</span>\")\n",
    "                lis_set.remove(word)\n",
    "            else:\n",
    "                annotated_sentence.append(word)\n",
    "        annotated_sentences.append(\" \".join(annotated_sentence))\n",
    "\n",
    "    return \"<br>\".join(annotated_sentences)\n",
    "\n",
    "def main():\n",
    "    # small_file_path = '/content/drive/MyDrive/train_data/out-mobydick-1000iter.txt'\n",
    "    # large_file_path = '/content/drive/MyDrive/train_data/MobyDick.Gutenberg.txt'\n",
    "\n",
    "    # small_text = read_text(small_file_path)\n",
    "    # large_text = read_text(large_file_path)\n",
    "\n",
    "    large_text = \"\"\"Once upon a time, in an ancient house, there lived a girl named Lily. She loved to decorate her room with pretty things. One\n",
    "                    day, she found a big box in the attic. She opened it and saw many shiny decorations. Lily was very happy and decided to use\n",
    "                    them in her room.\n",
    "                    \n",
    "                    As Lily was decorating her room, the sky outside became dark. There was a loud\"\"\"\n",
    "\n",
    "    small_text = \"\"\"Once upon a time, in an ancient house, there lived a girl named Lily. She loved to decorate her room with pretty things. One\n",
    "                    day, she found a big box in the attic. She opened it and saw many shiny decorations. Lily was very happy and decided to use\n",
    "                    them in her room.\n",
    "                    \n",
    "                    As Lily was decorating her room, the sky outside became dark. There was a loud noise and a big storm came. Lily was scared and ran to her room.\n",
    "                    \n",
    "                    But then, she remembered her mom's words. She remembered that she had a special gift for her mom. She took it to her room and put it in her room.\n",
    "                    \n",
    "                    Lily was very happy and proud of her gift. She knew that she had made a new friend and that she could always remember her mom's words.\"\"\"\n",
    "\n",
    "    sentences = re.split(r'(?<=\\w[.!?])\\s', small_text)\n",
    "    lis_lengths = []\n",
    "\n",
    "    annotated_sentences = []\n",
    "    for sentence in sentences:\n",
    "        lis = longest_increasing_subsequence(sentence.split(), large_text.split())\n",
    "        lis_lengths.append(len(lis))\n",
    "        annotated_sentences.append(annotate_text(sentence, lis))\n",
    "\n",
    "    annotated_text = \"<br>\".join(annotated_sentences)\n",
    "\n",
    "    from IPython.core.display import display, HTML\n",
    "    display(HTML(annotated_text))\n",
    "\n",
    "    plt.hist(lis_lengths, bins=range(1, max(lis_lengths) + 2), edgecolor='black')\n",
    "    plt.xlabel('Length of LIS')\n",
    "    plt.ylabel('Frequency')\n",
    "    plt.title('Histogram of LIS Lengths')\n",
    "    plt.show()\n",
    "\n",
    "if __name__ == \"__main__\":\n",
    "    main()\n",
    "\n"
   ]
  },
  {
   "cell_type": "code",
   "execution_count": 10,
   "id": "175aa5f5-f0ee-4795-9f90-736f9674f6b3",
   "metadata": {},
   "outputs": [
    {
     "name": "stderr",
     "output_type": "stream",
     "text": [
      "huggingface/tokenizers: The current process just got forked, after parallelism has already been used. Disabling parallelism to avoid deadlocks...\n",
      "To disable this warning, you can either:\n",
      "\t- Avoid using `tokenizers` before the fork if possible\n",
      "\t- Explicitly set the environment variable TOKENIZERS_PARALLELISM=(true | false)\n"
     ]
    },
    {
     "name": "stdout",
     "output_type": "stream",
     "text": [
      "Looking in indexes: https://pypi.tuna.tsinghua.edu.cn/simple\n",
      "Collecting matplotlib\n",
      "  Downloading https://pypi.tuna.tsinghua.edu.cn/packages/01/75/6c7ce560e95714a10fcbb3367d1304975a1a3e620f72af28921b796403f3/matplotlib-3.9.2-cp311-cp311-manylinux_2_17_x86_64.manylinux2014_x86_64.whl (8.3 MB)\n",
      "\u001b[2K     \u001b[38;2;114;156;31m━━━━━━━━━━━━━━━━━━━━━━━━━━━━━━━━━━━━━━━━\u001b[0m \u001b[32m8.3/8.3 MB\u001b[0m \u001b[31m4.8 MB/s\u001b[0m eta \u001b[36m0:00:00\u001b[0m[31m4.9 MB/s\u001b[0m eta \u001b[36m0:00:01\u001b[0m\n",
      "\u001b[?25hCollecting contourpy>=1.0.1 (from matplotlib)\n",
      "  Downloading https://pypi.tuna.tsinghua.edu.cn/packages/ee/c0/9bd123d676eb61750e116a2cd915b06483fc406143cfc36c7f263f0f5368/contourpy-1.2.1-cp311-cp311-manylinux_2_17_x86_64.manylinux2014_x86_64.whl (306 kB)\n",
      "Collecting cycler>=0.10 (from matplotlib)\n",
      "  Downloading https://pypi.tuna.tsinghua.edu.cn/packages/e7/05/c19819d5e3d95294a6f5947fb9b9629efb316b96de511b418c53d245aae6/cycler-0.12.1-py3-none-any.whl (8.3 kB)\n",
      "Collecting fonttools>=4.22.0 (from matplotlib)\n",
      "  Downloading https://pypi.tuna.tsinghua.edu.cn/packages/a4/22/0a0ad59d9367997fd74a00ad2e88d10559122e09f105e94d34c155aecc0a/fonttools-4.53.1-cp311-cp311-manylinux_2_17_x86_64.manylinux2014_x86_64.whl (4.9 MB)\n",
      "\u001b[2K     \u001b[38;2;114;156;31m━━━━━━━━━━━━━━━━━━━━━━━━━━━━━━━━━━━━━━━━\u001b[0m \u001b[32m4.9/4.9 MB\u001b[0m \u001b[31m5.3 MB/s\u001b[0m eta \u001b[36m0:00:00\u001b[0m MB/s\u001b[0m eta \u001b[36m0:00:01\u001b[0m:01\u001b[0m\n",
      "\u001b[?25hCollecting kiwisolver>=1.3.1 (from matplotlib)\n",
      "  Downloading https://pypi.tuna.tsinghua.edu.cn/packages/17/ba/17a706b232308e65f57deeccae503c268292e6a091313f6ce833a23093ea/kiwisolver-1.4.5-cp311-cp311-manylinux_2_17_x86_64.manylinux2014_x86_64.whl (1.4 MB)\n",
      "\u001b[2K     \u001b[38;2;114;156;31m━━━━━━━━━━━━━━━━━━━━━━━━━━━━━━━━━━━━━━━━\u001b[0m \u001b[32m1.4/1.4 MB\u001b[0m \u001b[31m5.4 MB/s\u001b[0m eta \u001b[36m0:00:00\u001b[0m[31m6.1 MB/s\u001b[0m eta \u001b[36m0:00:01\u001b[0m\n",
      "\u001b[?25hRequirement already satisfied: numpy>=1.23 in ./ENTER/envs/tinystories/lib/python3.11/site-packages (from matplotlib) (1.26.4)\n",
      "Requirement already satisfied: packaging>=20.0 in ./ENTER/envs/tinystories/lib/python3.11/site-packages (from matplotlib) (24.1)\n",
      "Collecting pillow>=8 (from matplotlib)\n",
      "  Downloading https://pypi.tuna.tsinghua.edu.cn/packages/ba/e5/8c68ff608a4203085158cff5cc2a3c534ec384536d9438c405ed6370d080/pillow-10.4.0-cp311-cp311-manylinux_2_28_x86_64.whl (4.5 MB)\n",
      "\u001b[2K     \u001b[38;2;114;156;31m━━━━━━━━━━━━━━━━━━━━━━━━━━━━━━━━━━━━━━━━\u001b[0m \u001b[32m4.5/4.5 MB\u001b[0m \u001b[31m4.9 MB/s\u001b[0m eta \u001b[36m0:00:00\u001b[0m MB/s\u001b[0m eta \u001b[36m0:00:01\u001b[0m:01\u001b[0m\n",
      "\u001b[?25hCollecting pyparsing>=2.3.1 (from matplotlib)\n",
      "  Downloading https://pypi.tuna.tsinghua.edu.cn/packages/9d/ea/6d76df31432a0e6fdf81681a895f009a4bb47b3c39036db3e1b528191d52/pyparsing-3.1.2-py3-none-any.whl (103 kB)\n",
      "Requirement already satisfied: python-dateutil>=2.7 in ./ENTER/envs/tinystories/lib/python3.11/site-packages (from matplotlib) (2.9.0.post0)\n",
      "Requirement already satisfied: six>=1.5 in ./ENTER/envs/tinystories/lib/python3.11/site-packages (from python-dateutil>=2.7->matplotlib) (1.16.0)\n",
      "Installing collected packages: pyparsing, pillow, kiwisolver, fonttools, cycler, contourpy, matplotlib\n",
      "Successfully installed contourpy-1.2.1 cycler-0.12.1 fonttools-4.53.1 kiwisolver-1.4.5 matplotlib-3.9.2 pillow-10.4.0 pyparsing-3.1.2\n",
      "Note: you may need to restart the kernel to use updated packages.\n"
     ]
    }
   ],
   "source": [
    "pip install matplotlib"
   ]
  },
  {
   "cell_type": "code",
   "execution_count": null,
   "id": "cff08124-007f-4956-9368-f4a1f003efe9",
   "metadata": {},
   "outputs": [],
   "source": []
  }
 ],
 "metadata": {
  "kernelspec": {
   "display_name": "Python 3 (ipykernel)",
   "language": "python",
   "name": "python3"
  },
  "language_info": {
   "codemirror_mode": {
    "name": "ipython",
    "version": 3
   },
   "file_extension": ".py",
   "mimetype": "text/x-python",
   "name": "python",
   "nbconvert_exporter": "python",
   "pygments_lexer": "ipython3",
   "version": "3.11.9"
  }
 },
 "nbformat": 4,
 "nbformat_minor": 5
}
